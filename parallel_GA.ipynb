
{
 "cells": [
  {
   "cell_type": "code",
   "execution_count": 1,
   "metadata": {
    "id": "GhC0lHV88rGr"
   },
   "outputs": [],
   "source": [
    "from pyspark.sql import SparkSession\n",
    "spark= SparkSession.builder.appName('Customers').getOrCreate()\n",
    "from pyspark.ml.linalg import Vectors\n",
    "from pyspark.ml.feature import VectorAssembler\n",
    "import numpy as np\n",
    "from pyspark.ml.linalg import Vectors\n",
    "from pyspark.ml.feature import VectorAssembler\n",
    "from pyspark.ml.evaluation import ClusteringEvaluator\n",
    "from pyspark.ml.clustering import KMeans\n",
    "from pyspark.ml.evaluation import ClusteringEvaluator"
   ]
  },
  {
   "cell_type": "code",
   "execution_count": 2,
   "metadata": {
    "id": "mElk45Ek8rG2"
   },
   "outputs": [],
   "source": [
    "def bin2dec(x,th):\n",
    "    dec=0;\n",
    "    for i in range(0,4):\n",
    "        dec=dec+x[3-i]*pow(2,i)\n",
    "    if (dec>th):\n",
    "        dec=th\n",
    "    if (dec<2):\n",
    "        dec=2\n",
    "    return dec \n",
    "\n",
    "def selectedfeat(ga,th):\n",
    "    a=[]\n",
    "    for i in range(0,len(ga)-4):\n",
    "        if (ga[i]==1):\n",
    "            fn=\"_c\" + str(i)\n",
    "            a.append(fn)\n",
    "    dec=bin2dec(ga[-4:],th)    \n",
    "#     print(a)\n",
    "#     print(dec)\n",
    "    return a,dec"
   ]
  },
  {
   "cell_type": "code",
   "execution_count": 3,
   "metadata": {
    "id": "IXNWF_aF8rG3"
   },
   "outputs": [],
   "source": [
    "import random\n",
    "def crossover(x,pc):\n",
    "    noc=pc*np.shape(x)[0]\n",
    "    if(noc%2!=0):\n",
    "        noc=noc+1 \n",
    "    a=random.sample(range(1, np.shape(x)[0]), int(noc))\n",
    "    bp=int(np.shape(x)[1]/2)\n",
    "    x1=np.zeros((int(noc/2),np.shape(x)[1]))\n",
    "    for i in range(0,int(noc/2)):\n",
    "        a1=a[2*i]\n",
    "        a2=a[2*i+1]\n",
    "        c1=x[a1,:]\n",
    "        c2=x[a2,:]\n",
    "        x1[i,0:bp]=c1[0:bp]\n",
    "        x1[i,bp+1:]=c2[bp+1:]\n",
    "    return x1 "
   ]
  },
  {
   "cell_type": "code",
   "execution_count": 4,
   "metadata": {
    "id": "-L2v0Fkn8rG4"
   },
   "outputs": [],
   "source": [
    "def mutation(x,pm):\n",
    "    noc=int(pm*np.shape(x)[1])\n",
    "    a=np.random.randint(np.shape(x)[1], size=(np.shape(x)[0], noc))\n",
    "    for i in range(0,np.shape(x)[0]):\n",
    "        a1=a[i,:]\n",
    "        for j in range(0,noc):\n",
    "            if (x[i,a1[j]]==0):\n",
    "                x[i,a1[j]]=1\n",
    "            else:\n",
    "                x[i,a1[j]]=0\n",
    "    return x "
   ]
  },
  {
   "cell_type": "code",
   "execution_count": 5,
   "metadata": {
    "id": "B0Qsf-f58rG5"
   },
   "outputs": [],
   "source": [
    "def makedata(ga,data,th):\n",
    "    dataf=[]\n",
    "    for row in ga:\n",
    "        d=[]\n",
    "        a,dec=selectedfeat(row,th)\n",
    "        featureassembler=VectorAssembler(inputCols=a,outputCol=\"features\")\n",
    "        dataset=featureassembler.transform(data)\n",
    "        d.append(dataset)\n",
    "        d.append(dec)\n",
    "        dataf.append(d)\n",
    "    return dataf"
   ]
  },
  {
   "cell_type": "code",
   "execution_count": 6,
   "metadata": {
    "id": "0CxLuZfG8rG5"
   },
   "outputs": [],
   "source": [
    "def fitnessvaluega1(dataset1):\n",
    "    dataset=dataset1[0]\n",
    "    k=dataset1[1]\n",
    "    dataset=dataset.select('features')\n",
    "    dataset.rdd.collect()\n",
    "    kmeans = KMeans().setK(int(k)).setSeed(1)\n",
    "    model = kmeans.fit(dataset)\n",
    "    predictions = model.transform(dataset)\n",
    "    evaluator = ClusteringEvaluator()\n",
    "    silhouette = evaluator.evaluate(predictions)\n",
    "    return silhouette"
   ]
  },
  {
   "cell_type": "code",
   "execution_count": 7,
   "metadata": {
    "id": "gahAIRww8rG6"
   },
   "outputs": [],
   "source": [
    "import multiprocess \n",
    "import time "
   ]
  },
  {
   "cell_type": "code",
   "execution_count": 8,
   "metadata": {
    "id": "Z3-h_XIw8rG6",
    "outputId": "2c1b45f1-572d-4e3b-acf2-e242e47fef65"
   },
   "outputs": [],
   "source": [
    "# noc=input(\"Enter number of chromosome\")\n",
    "# noc=int(noc)\n",
    "# th=input(\"Enter max threshold\")\n",
    "# th=int(th)\n",
    "# wn=input(\"Enter number of working node\")\n",
    "# wn=int(wn)\n",
    "# nog=input(\"Enter number of Generations\")\n",
    "# nog=int(nog)\n",
    "noc =25\n",
    "th = 0.5\n",
    "wn = 4\n",
    "nog = 20"
   ]
  },
  {
   "cell_type": "code",
   "execution_count": 9,
   "metadata": {
    "id": "AHe-nraY8rG8"
   },
   "outputs": [],
   "source": [
    "from multiprocess.pool import ThreadPool \n",
    "pool=ThreadPool(wn)\n"
   ]
  },
  {
   "cell_type": "code",
   "execution_count": 10,
   "metadata": {
    "id": "qQFi5hnE8rG8",
    "outputId": "e675200d-0f9e-456f-e5ee-ec3f15084c4d"
   },
   "outputs": [
    {
     "name": "stdout",
     "output_type": "stream",
     "text": [
      "\n",
      "In Progress: 1.csv\n",
      "\n",
      "26509 100\n",
      "0\n",
      "0.30276573386371164 0\n",
      "1\n",
      "0.30276573386371164 1\n",
      "2\n",
      "0.30880707168818494 2\n",
      "3\n",
      "0.30880707168818494 3\n",
      "4\n",
      "0.318583110643518 4\n",
      "5\n",
      "0.318583110643518 5\n",
      "6\n",
      "0.318583110643518 6\n",
      "7\n",
      "0.318583110643518 7\n",
      "8\n",
      "0.318583110643518 8\n",
      "9\n",
      "0.318583110643518 9\n",
      "10\n",
      "0.318583110643518 10\n",
      "11\n",
      "0.318583110643518 11\n",
      "12\n",
      "0.318583110643518 12\n",
      "13\n",
      "0.318583110643518 13\n",
      "14\n",
      "0.318583110643518 14\n",
      "15\n",
      "0.318583110643518 15\n",
      "16\n",
      "0.318583110643518 16\n",
      "17\n",
      "0.318583110643518 17\n",
      "18\n",
      "0.318583110643518 18\n",
      "19\n",
      "0.318583110643518 19\n",
      "\n",
      "In Progress: 2.csv\n",
      "\n",
      "26509 100\n",
      "0\n",
      "0.5355304062623758 0\n",
      "1\n",
      "0.5512013119427602 1\n",
      "2\n",
      "0.5512013119427602 2\n",
      "3\n",
      "0.5512013119427602 3\n",
      "4\n",
      "0.5512013119427602 4\n",
      "5\n",
      "0.5512013119427602 5\n",
      "6\n",
      "0.5512013119427602 6\n",
      "7\n",
      "0.5512013119427602 7\n",
      "8\n",
      "0.5512013119427602 8\n",
      "9\n",
      "0.5512013119427602 9\n",
      "10\n",
      "0.5512013119427602 10\n",
      "11\n",
      "0.5512013119427602 11\n",
      "12\n",
      "0.5512013119427602 12\n",
      "13\n",
      "0.5512013119427602 13\n",
      "14\n",
      "0.5512013119427602 14\n",
      "15\n",
      "0.5512013119427602 15\n",
      "16\n",
      "0.5512013119427602 16\n",
      "17\n",
      "0.5512013119427602 17\n",
      "18\n",
      "0.5521377090054623 18\n",
      "19\n",
      "0.5521377090054623 19\n",
      "\n",
      "In Progress: 3.csv\n",
      "\n",
      "26509 300\n",
      "0\n",
      "0.5521377090054623 0\n",
      "1\n",
      "0.5521377090054623 1\n",
      "2\n",
      "0.5521377090054623 2\n",
      "3\n",
      "0.5521377090054623 3\n",
      "4\n",
      "0.5521377090054623 4\n",
      "5\n",
      "0.5521377090054623 5\n",
      "6\n",
      "0.5521377090054623 6\n",
      "7\n",
      "0.5521377090054623 7\n",
      "8\n",
      "0.5521377090054623 8\n",
      "9\n",
      "0.5521377090054623 9\n",
      "10\n",
      "0.5521377090054623 10\n",
      "11\n",
      "0.5521377090054623 11\n",
      "12\n",
      "0.5521377090054623 12\n",
      "13\n",
      "0.5521377090054623 13\n",
      "14\n",
      "0.5521377090054623 14\n",
      "15\n",
      "0.5521377090054623 15\n",
      "16\n",
      "0.5521377090054623 16\n",
      "17\n",
      "0.5521377090054623 17\n",
      "18\n",
      "0.5521377090054623 18\n",
      "19\n",
      "0.5521377090054623 19\n"
     ]
    }
   ],
   "source": [
    "import time\n",
    "befit=-1\n",
    "pc=0.5\n",
    "pm=0.1\n",
    "dataset_path='Dataset/'\n",
    "bsv=[]\n",
    "timef=[]\n",
    "befs=[]\n",
    "for j in range(0,3):\n",
    "    if j!=4 and j!=5:\n",
    "        fname= dataset_path+str(j+1) +'.csv'\n",
    "        print('\\nIn Progress: '+str(j+1)+'.csv'+'\\n')\n",
    "        dataset=spark.read.csv(fname,inferSchema=True,header=False)\n",
    "        columns = len(dataset.columns)\n",
    "        rows=dataset.count()\n",
    "        print(rows,columns)\n",
    "        ga=np.random.randint(2, size=(noc, columns+4))\n",
    "        dataf=makedata(ga,dataset,th)\n",
    "        iterbest=np.zeros((nog))\n",
    "        tf=np.zeros((nog))\n",
    "\n",
    "        for gno in range(0,nog):\n",
    "            print(gno)\n",
    "            start = time.time()\n",
    "            s=np.zeros((noc))\n",
    "            s=pool.map(fitnessvaluega1,dataf)\n",
    "            maxs=np.max(s)\n",
    "            maxi=np.argmax(s)  \n",
    "            if maxs>befit:\n",
    "                befit=maxs\n",
    "                gaf=ga[maxi,:]\n",
    "            iterbest[gno]=befit    \n",
    "            ga=crossover(ga,pc)\n",
    "            ga=mutation(ga,pm)\n",
    "            nr=np.shape(ga)[0]   \n",
    "            ga=np.concatenate((ga,np.random.randint(2, size=(noc-nr, columns+4))), axis=0)\n",
    "            print(befit,gno)\n",
    "            dataf=makedata(ga,dataset,th)\n",
    "            end = time.time()\n",
    "            tf[gno]=end-start\n",
    "        bsv.append(iterbest)\n",
    "        timef.append(tf)\n",
    "        befs.append(befit)"
   ]
  },
  {
   "cell_type": "code",
   "execution_count": 11,
   "metadata": {},
   "outputs": [
    {
     "data": {
      "text/plain": [
       "[array([0.30276573, 0.30276573, 0.30880707, 0.30880707, 0.31858311,\n",
       "        0.31858311, 0.31858311, 0.31858311, 0.31858311, 0.31858311,\n",
       "        0.31858311, 0.31858311, 0.31858311, 0.31858311, 0.31858311,\n",
       "        0.31858311, 0.31858311, 0.31858311, 0.31858311, 0.31858311]),\n",
       " array([0.53553041, 0.55120131, 0.55120131, 0.55120131, 0.55120131,\n",
       "        0.55120131, 0.55120131, 0.55120131, 0.55120131, 0.55120131,\n",
       "        0.55120131, 0.55120131, 0.55120131, 0.55120131, 0.55120131,\n",
       "        0.55120131, 0.55120131, 0.55120131, 0.55213771, 0.55213771]),\n",
       " array([0.55213771, 0.55213771, 0.55213771, 0.55213771, 0.55213771,\n",
       "        0.55213771, 0.55213771, 0.55213771, 0.55213771, 0.55213771,\n",
       "        0.55213771, 0.55213771, 0.55213771, 0.55213771, 0.55213771,\n",
       "        0.55213771, 0.55213771, 0.55213771, 0.55213771, 0.55213771])]"
      ]
     },
     "execution_count": 11,
     "metadata": {},
     "output_type": "execute_result"
    }
   ],
   "source": [
    "bsv"
   ]
  },
  {
   "cell_type": "code",
   "execution_count": 17,
   "metadata": {
    "id": "5B_AtUtS8rG_",
    "outputId": "30597414-d68e-4227-da62-a0bdb3ada418"
   },
   "outputs": [
    {
     "data": {
      "image/png": "[encoded data removed]",
      "text/plain": [
       "<Figure size 432x288 with 1 Axes>"
      ]
     },
     "metadata": {
      "needs_background": "light"
     },
     "output_type": "display_data"
    },
    {
     "data": {
      "text/plain": [
       "<function matplotlib.pyplot.savefig(*args, **kwargs)>"
      ]
     },
     "execution_count": 17,
     "metadata": {},
     "output_type": "execute_result"
    }
   ],
   "source": [
    "gnof=np.zeros(nog)\n",
    "for i in range(0,nog):\n",
    "    gnof[i]=i+1\n",
    "import matplotlib.pyplot as plt \n",
    "plt.plot(gnof,bsv[1])\n",
    "plt.xlabel('Generation Number') \n",
    "plt.ylabel('Fitness Value')  \n",
    "plt.title('1') \n",
    "plt.show() \n",
    "plt.savefig\n",
    "\n",
    "# plt.plot(gnof,bsv[1])\n",
    "# plt.xlabel('Generation Number') \n",
    "# plt.ylabel('Fitness Value')  \n",
    "# plt.title('Skg') \n",
    "# plt.show() \n"
   ]
  },
  {
   "cell_type": "code",
   "execution_count": 18,
   "metadata": {
    "id": "KDeVYcrN8rHB",
    "outputId": "427dacef-e3e7-4b81-fcc7-69e49faaa427"
   },
   "outputs": [
    {
     "data": {
      "image/png": "[encoded data removed]",
      "text/plain": [
       "<Figure size 432x288 with 1 Axes>"
      ]
     },
     "metadata": {
      "needs_background": "light"
     },
     "output_type": "display_data"
    }
   ],
   "source": [
    "plt.plot(gnof,timef[0])\n",
    "plt.xlabel('Generation Number') \n",
    "plt.ylabel('Time Value')  \n",
    "plt.title('CBOW') \n",
    "plt.show() \n",
    "\n",
    "\n"
   ]
  },
  {
   "cell_type": "code",
   "execution_count": 19,
   "metadata": {
    "id": "dyqsqCp48rHB",
    "outputId": "1bb191ce-66e4-492a-9955-d15ef98e9256"
   },
   "outputs": [
    {
     "data": {
      "image/png": "[encoded data removed]",
      "text/plain": [
       "<Figure size 432x288 with 1 Axes>"
      ]
     },
     "metadata": {
      "needs_background": "light"
     },
     "output_type": "display_data"
    },
    {
     "data": {
      "text/plain": [
       "<Figure size 432x288 with 0 Axes>"
      ]
     },
     "metadata": {},
     "output_type": "display_data"
    }
   ],
   "source": [
    "plt.plot(gnof,timef[1])\n",
    "plt.xlabel('Generation Number') \n",
    "plt.ylabel('Time Value')  \n",
    "plt.title('Skg') \n",
    "plt.show() \n",
    "plt.savefig('timeskg_20.png')"
   ]
  }
 ],
 "metadata": {
  "colab": {
   "name": "parallel_GA.ipynb",
   "provenance": []
  },
  "kernelspec": {
   "display_name": "Python 3",
   "language": "python",
   "name": "python3"
  },
  "language_info": {
   "codemirror_mode": {
    "name": "ipython",
    "version": 3
   },
   "file_extension": ".py",
   "mimetype": "text/x-python",
   "name": "python",
   "nbconvert_exporter": "python",
   "pygments_lexer": "ipython3",
   "version": "3.8.8"
  }
 },
 "nbformat": 4,
 "nbformat_minor": 1
}

