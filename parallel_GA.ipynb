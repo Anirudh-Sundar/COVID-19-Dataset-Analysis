{
 "cells": [
  {
   "cell_type": "code",
   "execution_count": 310,
   "metadata": {
    "id": "GhC0lHV88rGr"
   },
   "outputs": [],
   "source": [
    "from pyspark.sql import SparkSession\n",
    "spark= SparkSession.builder.appName('Customers').getOrCreate()\n",
    "from pyspark.ml.linalg import Vectors\n",
    "from pyspark.ml.feature import VectorAssembler\n",
    "import numpy as np\n",
    "from pyspark.ml.linalg import Vectors\n",
    "from pyspark.ml.feature import VectorAssembler\n",
    "from pyspark.ml.evaluation import ClusteringEvaluator\n",
    "from pyspark.ml.clustering import KMeans\n",
    "from pyspark.ml.evaluation import ClusteringEvaluator"
   ]
  },
  {
   "cell_type": "code",
   "execution_count": 311,
   "metadata": {
    "id": "mElk45Ek8rG2"
   },
   "outputs": [],
   "source": [
    "def bin2dec(x,th):\n",
    "    dec=0;\n",
    "    for i in range(0,4):\n",
    "        dec=dec+x[3-i]*pow(2,i)\n",
    "    if (dec>th):\n",
    "        dec=th\n",
    "    if (dec<2):\n",
    "        dec=2\n",
    "    return dec \n",
    "\n",
    "def selectedfeat(ga,th):\n",
    "    a=[]\n",
    "    for i in range(0,len(ga)-4):\n",
    "        if (ga[i]==1):\n",
    "            fn=\"_c\" + str(i)\n",
    "            a.append(fn)\n",
    "    dec=bin2dec(ga[-4:],th)    \n",
    "#     print(a)\n",
    "#     print(dec)\n",
    "    return a,dec"
   ]
  },
  {
   "cell_type": "code",
   "execution_count": 312,
   "metadata": {
    "id": "IXNWF_aF8rG3"
   },
   "outputs": [],
   "source": [
    "import random\n",
    "def crossover(x,pc):\n",
    "    noc=pc*np.shape(x)[0]\n",
    "    if(noc%2!=0):\n",
    "        noc=noc+1 \n",
    "    a=random.sample(range(1, np.shape(x)[0]), int(noc))\n",
    "    bp=int(np.shape(x)[1]/2)\n",
    "    x1=np.zeros((int(noc/2),np.shape(x)[1]))\n",
    "    for i in range(0,int(noc/2)):\n",
    "        a1=a[2*i]\n",
    "        a2=a[2*i+1]\n",
    "        c1=x[a1,:]\n",
    "        c2=x[a2,:]\n",
    "        x1[i,0:bp]=c1[0:bp]\n",
    "        x1[i,bp+1:]=c2[bp+1:]\n",
    "    return x1 "
   ]
  },
  {
   "cell_type": "code",
   "execution_count": 313,
   "metadata": {
    "id": "-L2v0Fkn8rG4"
   },
   "outputs": [],
   "source": [
    "def mutation(x,pm):\n",
    "    noc=int(pm*np.shape(x)[1])\n",
    "    a=np.random.randint(np.shape(x)[1], size=(np.shape(x)[0], noc))\n",
    "    for i in range(0,np.shape(x)[0]):\n",
    "        a1=a[i,:]\n",
    "        for j in range(0,noc):\n",
    "            if (x[i,a1[j]]==0):\n",
    "                x[i,a1[j]]=1\n",
    "            else:\n",
    "                x[i,a1[j]]=0\n",
    "    return x "
   ]
  },
  {
   "cell_type": "code",
   "execution_count": 314,
   "metadata": {
    "id": "B0Qsf-f58rG5"
   },
   "outputs": [],
   "source": [
    "def makedata(ga,data,th):\n",
    "    dataf=[]\n",
    "    for row in ga:\n",
    "        d=[]\n",
    "        a,dec=selectedfeat(row,th)\n",
    "        featureassembler=VectorAssembler(inputCols=a,outputCol=\"features\")\n",
    "        dataset=featureassembler.transform(data)\n",
    "        d.append(dataset)\n",
    "        d.append(dec)\n",
    "        dataf.append(d)\n",
    "    return dataf"
   ]
  },
  {
   "cell_type": "code",
   "execution_count": 315,
   "metadata": {
    "id": "0CxLuZfG8rG5"
   },
   "outputs": [],
   "source": [
    "def fitnessvaluega1(dataset1):\n",
    "    dataset=dataset1[0]\n",
    "    k=dataset1[1]\n",
    "    dataset=dataset.select('features')\n",
    "    dataset.rdd.collect()\n",
    "    kmeans = KMeans().setK(int(k)).setSeed(1)\n",
    "    model = kmeans.fit(dataset)\n",
    "    predictions = model.transform(dataset)\n",
    "    evaluator = ClusteringEvaluator()\n",
    "    silhouette = evaluator.evaluate(predictions)\n",
    "    return silhouette"
   ]
  },
  {
   "cell_type": "code",
   "execution_count": 316,
   "metadata": {
    "id": "gahAIRww8rG6"
   },
   "outputs": [],
   "source": [
    "import multiprocess \n",
    "import time "
   ]
  },
  {
   "cell_type": "code",
   "execution_count": 317,
   "metadata": {
    "id": "Z3-h_XIw8rG6",
    "outputId": "2c1b45f1-572d-4e3b-acf2-e242e47fef65"
   },
   "outputs": [],
   "source": [
    "# noc=input(\"Enter number of chromosome\")\n",
    "# noc=int(noc)\n",
    "# th=input(\"Enter max threshold\")\n",
    "# th=int(th)\n",
    "# wn=input(\"Enter number of working node\")\n",
    "# wn=int(wn)\n",
    "# nog=input(\"Enter number of Generations\")\n",
    "# nog=int(nog)\n",
    "noc =25\n",
    "th = 0.5\n",
    "wn = 4\n",
    "nog = 20"
   ]
  },
  {
   "cell_type": "code",
   "execution_count": 318,
   "metadata": {
    "id": "AHe-nraY8rG8"
   },
   "outputs": [],
   "source": [
    "from multiprocess.pool import ThreadPool \n",
    "pool=ThreadPool(wn)\n"
   ]
  },
  {
   "cell_type": "code",
   "execution_count": 319,
   "metadata": {
    "id": "qQFi5hnE8rG8",
    "outputId": "e675200d-0f9e-456f-e5ee-ec3f15084c4d"
   },
   "outputs": [
    {
     "name": "stdout",
     "output_type": "stream",
     "text": [
      "26509 100\n",
      "0\n",
      "0.2880711068407523 0\n",
      "1\n",
      "0.3154051638763784 1\n",
      "2\n",
      "0.3154051638763784 2\n",
      "3\n",
      "0.3154051638763784 3\n",
      "4\n",
      "0.3154051638763784 4\n",
      "5\n",
      "0.3154051638763784 5\n",
      "6\n",
      "0.3154051638763784 6\n",
      "7\n",
      "0.3154051638763784 7\n",
      "8\n",
      "0.3154051638763784 8\n",
      "9\n",
      "0.3230892729472188 9\n",
      "10\n",
      "0.3230892729472188 10\n",
      "11\n",
      "0.3230892729472188 11\n",
      "12\n",
      "0.3230892729472188 12\n",
      "13\n",
      "0.3230892729472188 13\n",
      "14\n",
      "0.3230892729472188 14\n",
      "15\n",
      "0.3230892729472188 15\n",
      "16\n",
      "0.3230892729472188 16\n",
      "17\n",
      "0.3230892729472188 17\n",
      "18\n",
      "0.3230892729472188 18\n",
      "19\n",
      "0.3230892729472188 19\n",
      "26509 100\n",
      "0\n",
      "0.5396931123655117 0\n",
      "1\n",
      "0.5444115841132842 1\n",
      "2\n",
      "0.5535325989000222 2\n",
      "3\n",
      "0.5535325989000222 3\n",
      "4\n",
      "0.5535325989000222 4\n",
      "5\n"
     ]
    },
    {
     "ename": "KeyboardInterrupt",
     "evalue": "",
     "output_type": "error",
     "traceback": [
      "\u001b[1;31m---------------------------------------------------------------------------\u001b[0m",
      "\u001b[1;31mKeyboardInterrupt\u001b[0m                         Traceback (most recent call last)",
      "\u001b[1;32m<ipython-input-319-546f68e21509>\u001b[0m in \u001b[0;36m<module>\u001b[1;34m\u001b[0m\n\u001b[0;32m     22\u001b[0m         \u001b[0mstart\u001b[0m \u001b[1;33m=\u001b[0m \u001b[0mtime\u001b[0m\u001b[1;33m.\u001b[0m\u001b[0mtime\u001b[0m\u001b[1;33m(\u001b[0m\u001b[1;33m)\u001b[0m\u001b[1;33m\u001b[0m\u001b[1;33m\u001b[0m\u001b[0m\n\u001b[0;32m     23\u001b[0m         \u001b[0ms\u001b[0m\u001b[1;33m=\u001b[0m\u001b[0mnp\u001b[0m\u001b[1;33m.\u001b[0m\u001b[0mzeros\u001b[0m\u001b[1;33m(\u001b[0m\u001b[1;33m(\u001b[0m\u001b[0mnoc\u001b[0m\u001b[1;33m)\u001b[0m\u001b[1;33m)\u001b[0m\u001b[1;33m\u001b[0m\u001b[1;33m\u001b[0m\u001b[0m\n\u001b[1;32m---> 24\u001b[1;33m         \u001b[0ms\u001b[0m\u001b[1;33m=\u001b[0m\u001b[0mpool\u001b[0m\u001b[1;33m.\u001b[0m\u001b[0mmap\u001b[0m\u001b[1;33m(\u001b[0m\u001b[0mfitnessvaluega1\u001b[0m\u001b[1;33m,\u001b[0m\u001b[0mdataf\u001b[0m\u001b[1;33m)\u001b[0m\u001b[1;33m\u001b[0m\u001b[1;33m\u001b[0m\u001b[0m\n\u001b[0m\u001b[0;32m     25\u001b[0m         \u001b[0mmaxs\u001b[0m\u001b[1;33m=\u001b[0m\u001b[0mnp\u001b[0m\u001b[1;33m.\u001b[0m\u001b[0mmax\u001b[0m\u001b[1;33m(\u001b[0m\u001b[0ms\u001b[0m\u001b[1;33m)\u001b[0m\u001b[1;33m\u001b[0m\u001b[1;33m\u001b[0m\u001b[0m\n\u001b[0;32m     26\u001b[0m         \u001b[0mmaxi\u001b[0m\u001b[1;33m=\u001b[0m\u001b[0mnp\u001b[0m\u001b[1;33m.\u001b[0m\u001b[0margmax\u001b[0m\u001b[1;33m(\u001b[0m\u001b[0ms\u001b[0m\u001b[1;33m)\u001b[0m\u001b[1;33m\u001b[0m\u001b[1;33m\u001b[0m\u001b[0m\n",
      "\u001b[1;32mC:\\Anaconda\\envs\\tf\\lib\\site-packages\\multiprocess\\pool.py\u001b[0m in \u001b[0;36mmap\u001b[1;34m(self, func, iterable, chunksize)\u001b[0m\n\u001b[0;32m    266\u001b[0m         \u001b[1;32min\u001b[0m \u001b[0ma\u001b[0m \u001b[0mlist\u001b[0m \u001b[0mthat\u001b[0m \u001b[1;32mis\u001b[0m \u001b[0mreturned\u001b[0m\u001b[1;33m.\u001b[0m\u001b[1;33m\u001b[0m\u001b[1;33m\u001b[0m\u001b[0m\n\u001b[0;32m    267\u001b[0m         '''\n\u001b[1;32m--> 268\u001b[1;33m         \u001b[1;32mreturn\u001b[0m \u001b[0mself\u001b[0m\u001b[1;33m.\u001b[0m\u001b[0m_map_async\u001b[0m\u001b[1;33m(\u001b[0m\u001b[0mfunc\u001b[0m\u001b[1;33m,\u001b[0m \u001b[0miterable\u001b[0m\u001b[1;33m,\u001b[0m \u001b[0mmapstar\u001b[0m\u001b[1;33m,\u001b[0m \u001b[0mchunksize\u001b[0m\u001b[1;33m)\u001b[0m\u001b[1;33m.\u001b[0m\u001b[0mget\u001b[0m\u001b[1;33m(\u001b[0m\u001b[1;33m)\u001b[0m\u001b[1;33m\u001b[0m\u001b[1;33m\u001b[0m\u001b[0m\n\u001b[0m\u001b[0;32m    269\u001b[0m \u001b[1;33m\u001b[0m\u001b[0m\n\u001b[0;32m    270\u001b[0m     \u001b[1;32mdef\u001b[0m \u001b[0mstarmap\u001b[0m\u001b[1;33m(\u001b[0m\u001b[0mself\u001b[0m\u001b[1;33m,\u001b[0m \u001b[0mfunc\u001b[0m\u001b[1;33m,\u001b[0m \u001b[0miterable\u001b[0m\u001b[1;33m,\u001b[0m \u001b[0mchunksize\u001b[0m\u001b[1;33m=\u001b[0m\u001b[1;32mNone\u001b[0m\u001b[1;33m)\u001b[0m\u001b[1;33m:\u001b[0m\u001b[1;33m\u001b[0m\u001b[1;33m\u001b[0m\u001b[0m\n",
      "\u001b[1;32mC:\\Anaconda\\envs\\tf\\lib\\site-packages\\multiprocess\\pool.py\u001b[0m in \u001b[0;36mget\u001b[1;34m(self, timeout)\u001b[0m\n\u001b[0;32m    649\u001b[0m \u001b[1;33m\u001b[0m\u001b[0m\n\u001b[0;32m    650\u001b[0m     \u001b[1;32mdef\u001b[0m \u001b[0mget\u001b[0m\u001b[1;33m(\u001b[0m\u001b[0mself\u001b[0m\u001b[1;33m,\u001b[0m \u001b[0mtimeout\u001b[0m\u001b[1;33m=\u001b[0m\u001b[1;32mNone\u001b[0m\u001b[1;33m)\u001b[0m\u001b[1;33m:\u001b[0m\u001b[1;33m\u001b[0m\u001b[1;33m\u001b[0m\u001b[0m\n\u001b[1;32m--> 651\u001b[1;33m         \u001b[0mself\u001b[0m\u001b[1;33m.\u001b[0m\u001b[0mwait\u001b[0m\u001b[1;33m(\u001b[0m\u001b[0mtimeout\u001b[0m\u001b[1;33m)\u001b[0m\u001b[1;33m\u001b[0m\u001b[1;33m\u001b[0m\u001b[0m\n\u001b[0m\u001b[0;32m    652\u001b[0m         \u001b[1;32mif\u001b[0m \u001b[1;32mnot\u001b[0m \u001b[0mself\u001b[0m\u001b[1;33m.\u001b[0m\u001b[0mready\u001b[0m\u001b[1;33m(\u001b[0m\u001b[1;33m)\u001b[0m\u001b[1;33m:\u001b[0m\u001b[1;33m\u001b[0m\u001b[1;33m\u001b[0m\u001b[0m\n\u001b[0;32m    653\u001b[0m             \u001b[1;32mraise\u001b[0m \u001b[0mTimeoutError\u001b[0m\u001b[1;33m\u001b[0m\u001b[1;33m\u001b[0m\u001b[0m\n",
      "\u001b[1;32mC:\\Anaconda\\envs\\tf\\lib\\site-packages\\multiprocess\\pool.py\u001b[0m in \u001b[0;36mwait\u001b[1;34m(self, timeout)\u001b[0m\n\u001b[0;32m    646\u001b[0m \u001b[1;33m\u001b[0m\u001b[0m\n\u001b[0;32m    647\u001b[0m     \u001b[1;32mdef\u001b[0m \u001b[0mwait\u001b[0m\u001b[1;33m(\u001b[0m\u001b[0mself\u001b[0m\u001b[1;33m,\u001b[0m \u001b[0mtimeout\u001b[0m\u001b[1;33m=\u001b[0m\u001b[1;32mNone\u001b[0m\u001b[1;33m)\u001b[0m\u001b[1;33m:\u001b[0m\u001b[1;33m\u001b[0m\u001b[1;33m\u001b[0m\u001b[0m\n\u001b[1;32m--> 648\u001b[1;33m         \u001b[0mself\u001b[0m\u001b[1;33m.\u001b[0m\u001b[0m_event\u001b[0m\u001b[1;33m.\u001b[0m\u001b[0mwait\u001b[0m\u001b[1;33m(\u001b[0m\u001b[0mtimeout\u001b[0m\u001b[1;33m)\u001b[0m\u001b[1;33m\u001b[0m\u001b[1;33m\u001b[0m\u001b[0m\n\u001b[0m\u001b[0;32m    649\u001b[0m \u001b[1;33m\u001b[0m\u001b[0m\n\u001b[0;32m    650\u001b[0m     \u001b[1;32mdef\u001b[0m \u001b[0mget\u001b[0m\u001b[1;33m(\u001b[0m\u001b[0mself\u001b[0m\u001b[1;33m,\u001b[0m \u001b[0mtimeout\u001b[0m\u001b[1;33m=\u001b[0m\u001b[1;32mNone\u001b[0m\u001b[1;33m)\u001b[0m\u001b[1;33m:\u001b[0m\u001b[1;33m\u001b[0m\u001b[1;33m\u001b[0m\u001b[0m\n",
      "\u001b[1;32mC:\\Anaconda\\envs\\tf\\lib\\threading.py\u001b[0m in \u001b[0;36mwait\u001b[1;34m(self, timeout)\u001b[0m\n\u001b[0;32m    550\u001b[0m             \u001b[0msignaled\u001b[0m \u001b[1;33m=\u001b[0m \u001b[0mself\u001b[0m\u001b[1;33m.\u001b[0m\u001b[0m_flag\u001b[0m\u001b[1;33m\u001b[0m\u001b[1;33m\u001b[0m\u001b[0m\n\u001b[0;32m    551\u001b[0m             \u001b[1;32mif\u001b[0m \u001b[1;32mnot\u001b[0m \u001b[0msignaled\u001b[0m\u001b[1;33m:\u001b[0m\u001b[1;33m\u001b[0m\u001b[1;33m\u001b[0m\u001b[0m\n\u001b[1;32m--> 552\u001b[1;33m                 \u001b[0msignaled\u001b[0m \u001b[1;33m=\u001b[0m \u001b[0mself\u001b[0m\u001b[1;33m.\u001b[0m\u001b[0m_cond\u001b[0m\u001b[1;33m.\u001b[0m\u001b[0mwait\u001b[0m\u001b[1;33m(\u001b[0m\u001b[0mtimeout\u001b[0m\u001b[1;33m)\u001b[0m\u001b[1;33m\u001b[0m\u001b[1;33m\u001b[0m\u001b[0m\n\u001b[0m\u001b[0;32m    553\u001b[0m             \u001b[1;32mreturn\u001b[0m \u001b[0msignaled\u001b[0m\u001b[1;33m\u001b[0m\u001b[1;33m\u001b[0m\u001b[0m\n\u001b[0;32m    554\u001b[0m \u001b[1;33m\u001b[0m\u001b[0m\n",
      "\u001b[1;32mC:\\Anaconda\\envs\\tf\\lib\\threading.py\u001b[0m in \u001b[0;36mwait\u001b[1;34m(self, timeout)\u001b[0m\n\u001b[0;32m    294\u001b[0m         \u001b[1;32mtry\u001b[0m\u001b[1;33m:\u001b[0m    \u001b[1;31m# restore state no matter what (e.g., KeyboardInterrupt)\u001b[0m\u001b[1;33m\u001b[0m\u001b[1;33m\u001b[0m\u001b[0m\n\u001b[0;32m    295\u001b[0m             \u001b[1;32mif\u001b[0m \u001b[0mtimeout\u001b[0m \u001b[1;32mis\u001b[0m \u001b[1;32mNone\u001b[0m\u001b[1;33m:\u001b[0m\u001b[1;33m\u001b[0m\u001b[1;33m\u001b[0m\u001b[0m\n\u001b[1;32m--> 296\u001b[1;33m                 \u001b[0mwaiter\u001b[0m\u001b[1;33m.\u001b[0m\u001b[0macquire\u001b[0m\u001b[1;33m(\u001b[0m\u001b[1;33m)\u001b[0m\u001b[1;33m\u001b[0m\u001b[1;33m\u001b[0m\u001b[0m\n\u001b[0m\u001b[0;32m    297\u001b[0m                 \u001b[0mgotit\u001b[0m \u001b[1;33m=\u001b[0m \u001b[1;32mTrue\u001b[0m\u001b[1;33m\u001b[0m\u001b[1;33m\u001b[0m\u001b[0m\n\u001b[0;32m    298\u001b[0m             \u001b[1;32melse\u001b[0m\u001b[1;33m:\u001b[0m\u001b[1;33m\u001b[0m\u001b[1;33m\u001b[0m\u001b[0m\n",
      "\u001b[1;31mKeyboardInterrupt\u001b[0m: "
     ]
    }
   ],
   "source": [
    "import time\n",
    "befit=-1\n",
    "pc=0.5\n",
    "pm=0.1\n",
    "\n",
    "bsv=[]\n",
    "timef=[]\n",
    "befs=[]\n",
    "for j in range(0,14):\n",
    "    fname= str(j+1) +'.csv'\n",
    "    dataset=spark.read.csv(fname,inferSchema=True,header=False)\n",
    "    columns = len(dataset.columns)\n",
    "    rows=dataset.count()\n",
    "    print(rows,columns)\n",
    "    ga=np.random.randint(2, size=(noc, columns+4))\n",
    "    dataf=makedata(ga,dataset,th)\n",
    "    iterbest=np.zeros((nog))\n",
    "    tf=np.zeros((nog))\n",
    "    \n",
    "    for gno in range(0,nog):\n",
    "        print(gno)\n",
    "        start = time.time()\n",
    "        s=np.zeros((noc))\n",
    "        s=pool.map(fitnessvaluega1,dataf)\n",
    "        maxs=np.max(s)\n",
    "        maxi=np.argmax(s)  \n",
    "        if maxs>befit:\n",
    "            befit=maxs\n",
    "            gaf=ga[maxi,:]\n",
    "        iterbest[gno]=befit    \n",
    "        ga=crossover(ga,pc)\n",
    "        ga=mutation(ga,pm)\n",
    "        nr=np.shape(ga)[0]   \n",
    "        ga=np.concatenate((ga,np.random.randint(2, size=(noc-nr, columns+4))), axis=0)\n",
    "        print(befit,gno)\n",
    "        dataf=makedata(ga,dataset,th)\n",
    "        end = time.time()\n",
    "        tf[gno]=end-start\n",
    "    bsv.append(iterbest)\n",
    "    timef.append(tf)\n",
    "    befs.append(befit)"
   ]
  },
  {
   "cell_type": "code",
   "execution_count": 299,
   "metadata": {},
   "outputs": [
    {
     "data": {
      "text/plain": [
       "[]"
      ]
     },
     "execution_count": 299,
     "metadata": {},
     "output_type": "execute_result"
    }
   ],
   "source": [
    "bsv"
   ]
  },
  {
   "cell_type": "code",
   "execution_count": null,
   "metadata": {
    "id": "3pampL688rG9",
    "outputId": "a98a9448-fcbb-4be7-d89d-d153bc7b7e57"
   },
   "outputs": [],
   "source": [
    "start = time.time()\n",
    "s=pool.map(fitnessvaluega1,dataf)\n",
    "end = time.time()\n",
    "print(end-start)"
   ]
  },
  {
   "cell_type": "code",
   "execution_count": null,
   "metadata": {
    "id": "9j7nqj5t8rG9",
    "outputId": "393037ef-ac10-43c6-b54d-012c779413c5"
   },
   "outputs": [],
   "source": [
    "pool=ThreadPool(1)\n",
    "start = time.time()\n",
    "s=pool.map(fitnessvaluega1,dataf)\n",
    "end = time.time()\n",
    "print(end-start)"
   ]
  },
  {
   "cell_type": "code",
   "execution_count": null,
   "metadata": {
    "id": "-LUdglyT8rG-",
    "outputId": "25fd1b38-2a36-4dfa-b3b6-43ada4c93d24"
   },
   "outputs": [],
   "source": [
    "pool=ThreadPool(2)\n",
    "start = time.time()\n",
    "s=pool.map(fitnessvaluega1,dataf)\n",
    "end = time.time()\n",
    "print(end-start)"
   ]
  },
  {
   "cell_type": "code",
   "execution_count": null,
   "metadata": {
    "id": "BmNBGxRr8rG-",
    "outputId": "3e24d441-1ac3-467e-ab24-458b799a3e25"
   },
   "outputs": [],
   "source": [
    "pool=ThreadPool(3)\n",
    "start = time.time()\n",
    "s=pool.map(fitnessvaluega1,dataf)\n",
    "end = time.time()\n",
    "print(end-start)"
   ]
  },
  {
   "cell_type": "code",
   "execution_count": null,
   "metadata": {
    "id": "5B_AtUtS8rG_",
    "outputId": "30597414-d68e-4227-da62-a0bdb3ada418"
   },
   "outputs": [],
   "source": [
    "gnof=np.zeros(nog)\n",
    "for i in range(0,nog):\n",
    "    gnof[i]=i+1\n",
    "import matplotlib.pyplot as plt \n",
    "plt.plot(gnof,bsv[0])\n",
    "plt.xlabel('Generation Number') \n",
    "plt.ylabel('Fitness Value')  \n",
    "plt.title('1') \n",
    "plt.show() \n",
    "plt.savefig\n",
    "\n",
    "# plt.plot(gnof,bsv[1])\n",
    "# plt.xlabel('Generation Number') \n",
    "# plt.ylabel('Fitness Value')  \n",
    "# plt.title('Skg') \n",
    "# plt.show() \n"
   ]
  },
  {
   "cell_type": "code",
   "execution_count": null,
   "metadata": {
    "id": "zE1bcUgm8rHA",
    "outputId": "92c10609-e2bc-4365-a9bc-6b8da3a68fff"
   },
   "outputs": [],
   "source": [
    "# plt.plot(gnof,timef[0])\n",
    "# plt.xlabel('Generation Number') \n",
    "# plt.ylabel('Time Value')  \n",
    "# plt.title('CBOW') \n",
    "# plt.show() \n",
    "# plt.savefig('timecbow.png')\n",
    "\n",
    "# plt.plot(gnof,timef[1])\n",
    "# plt.xlabel('Generation Number') \n",
    "# plt.ylabel('Time Value')  \n",
    "# plt.title('Skg') \n",
    "# plt.show() \n",
    "# plt.savefig('timeskg.png')"
   ]
  },
  {
   "cell_type": "code",
   "execution_count": null,
   "metadata": {
    "id": "KDeVYcrN8rHB",
    "outputId": "427dacef-e3e7-4b81-fcc7-69e49faaa427"
   },
   "outputs": [],
   "source": [
    "plt.plot(gnof,timef[0])\n",
    "plt.xlabel('Generation Number') \n",
    "plt.ylabel('Time Value')  \n",
    "plt.title('CBOW') \n",
    "plt.show() \n",
    "\n",
    "\n"
   ]
  },
  {
   "cell_type": "code",
   "execution_count": null,
   "metadata": {
    "id": "dyqsqCp48rHB",
    "outputId": "1bb191ce-66e4-492a-9955-d15ef98e9256"
   },
   "outputs": [],
   "source": [
    "plt.plot(gnof,timef[1])\n",
    "plt.xlabel('Generation Number') \n",
    "plt.ylabel('Time Value')  \n",
    "plt.title('Skg') \n",
    "plt.show() \n",
    "plt.savefig('timeskg_20.png')"
   ]
  },
  {
   "cell_type": "code",
   "execution_count": null,
   "metadata": {},
   "outputs": [],
   "source": [
    "# plt.savefig('cbow_20.png')\n",
    "# plt.savefig('skg_20.png')\n",
    "# plt.savefig('timecbow_20.png')"
   ]
  },
  {
   "cell_type": "code",
   "execution_count": null,
   "metadata": {
    "id": "UnGybM0H8rHC",
    "outputId": "76e09add-79d9-45a7-bd00-12f8907b2c52"
   },
   "outputs": [],
   "source": [
    "# plt.plot(gnof,timef[1])\n",
    "# plt.xlabel('Generation Number') \n",
    "# plt.ylabel('Time Value')  \n",
    "# plt.title('Skg') \n",
    "# plt.show() \n",
    "# plt.savefig('timeskg.png')"
   ]
  },
  {
   "cell_type": "code",
   "execution_count": null,
   "metadata": {
    "id": "aXW9UXzh8rHC",
    "outputId": "be470a4e-6e98-42f7-e599-4d83f0489cf9"
   },
   "outputs": [],
   "source": [
    "# plt.plot(gnof,timef[1])\n",
    "# plt.xlabel('Generation Number') \n",
    "# plt.ylabel('Time Value')  \n",
    "# plt.title('Skg') \n",
    "# plt.show() \n",
    "# plt.savefig('timeskg.png')"
   ]
  },
  {
   "cell_type": "code",
   "execution_count": null,
   "metadata": {
    "id": "eAY6wdtF8rHD",
    "outputId": "7352ac35-c05f-460d-9476-b46c6165e828"
   },
   "outputs": [],
   "source": [
    "# plt.plot(gnof,timef[1])\n",
    "# plt.xlabel('Generation Number') \n",
    "# plt.ylabel('Time Value')  \n",
    "# plt.title('Skg') \n",
    "# plt.show() \n",
    "# plt.savefig('D:/data/CORD-19-research-challenge/data/timeskg.png')"
   ]
  },
  {
   "cell_type": "code",
   "execution_count": null,
   "metadata": {
    "id": "tTBvp3Cg8rHD"
   },
   "outputs": [],
   "source": []
  },
  {
   "cell_type": "code",
   "execution_count": null,
   "metadata": {},
   "outputs": [],
   "source": []
  }
 ],
 "metadata": {
  "colab": {
   "name": "parallel_GA.ipynb",
   "provenance": []
  },
  "kernelspec": {
   "display_name": "Python 3",
   "language": "python",
   "name": "python3"
  },
  "language_info": {
   "codemirror_mode": {
    "name": "ipython",
    "version": 3
   },
   "file_extension": ".py",
   "mimetype": "text/x-python",
   "name": "python",
   "nbconvert_exporter": "python",
   "pygments_lexer": "ipython3",
   "version": "3.7.7"
  }
 },
 "nbformat": 4,
 "nbformat_minor": 1
}
