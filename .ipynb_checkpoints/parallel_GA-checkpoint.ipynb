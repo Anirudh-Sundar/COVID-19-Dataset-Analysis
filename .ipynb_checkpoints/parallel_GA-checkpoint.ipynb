{
 "cells": [
  {
   "cell_type": "code",
   "execution_count": 1,
   "metadata": {
    "id": "GhC0lHV88rGr"
   },
   "outputs": [],
   "source": [
    "from pyspark.sql import SparkSession\n",
    "spark= SparkSession.builder.appName('Customers').getOrCreate()\n",
    "from pyspark.ml.linalg import Vectors\n",
    "from pyspark.ml.feature import VectorAssembler\n",
    "import numpy as np\n",
    "from pyspark.ml.linalg import Vectors\n",
    "from pyspark.ml.feature import VectorAssembler\n",
    "from pyspark.ml.evaluation import ClusteringEvaluator\n",
    "from pyspark.ml.clustering import KMeans\n",
    "from pyspark.ml.evaluation import ClusteringEvaluator"
   ]
  },
  {
   "cell_type": "code",
   "execution_count": 2,
   "metadata": {
    "id": "mElk45Ek8rG2"
   },
   "outputs": [],
   "source": [
    "def bin2dec(x,th):\n",
    "    dec=0;\n",
    "    for i in range(0,4):\n",
    "        dec=dec+x[3-i]*pow(2,i)\n",
    "    if (dec>th):\n",
    "        dec=th\n",
    "    if (dec<2):\n",
    "        dec=2\n",
    "    return dec \n",
    "\n",
    "def selectedfeat(ga,th):\n",
    "    a=[]\n",
    "    for i in range(0,len(ga)-4):\n",
    "        if (ga[i]==1):\n",
    "            fn=\"_c\" + str(i)\n",
    "            a.append(fn)\n",
    "    dec=bin2dec(ga[-4:],th)    \n",
    "#     print(a)\n",
    "#     print(dec)\n",
    "    return a,dec"
   ]
  },
  {
   "cell_type": "code",
   "execution_count": 3,
   "metadata": {
    "id": "IXNWF_aF8rG3"
   },
   "outputs": [],
   "source": [
    "import random\n",
    "def crossover(x,pc):\n",
    "    noc=pc*np.shape(x)[0]\n",
    "    if(noc%2!=0):\n",
    "        noc=noc+1 \n",
    "    a=random.sample(range(1, np.shape(x)[0]), int(noc))\n",
    "    bp=int(np.shape(x)[1]/2)\n",
    "    x1=np.zeros((int(noc/2),np.shape(x)[1]))\n",
    "    for i in range(0,int(noc/2)):\n",
    "        a1=a[2*i]\n",
    "        a2=a[2*i+1]\n",
    "        c1=x[a1,:]\n",
    "        c2=x[a2,:]\n",
    "        x1[i,0:bp]=c1[0:bp]\n",
    "        x1[i,bp+1:]=c2[bp+1:]\n",
    "    return x1 "
   ]
  },
  {
   "cell_type": "code",
   "execution_count": 4,
   "metadata": {
    "id": "-L2v0Fkn8rG4"
   },
   "outputs": [],
   "source": [
    "def mutation(x,pm):\n",
    "    noc=int(pm*np.shape(x)[1])\n",
    "    a=np.random.randint(np.shape(x)[1], size=(np.shape(x)[0], noc))\n",
    "    for i in range(0,np.shape(x)[0]):\n",
    "        a1=a[i,:]\n",
    "        for j in range(0,noc):\n",
    "            if (x[i,a1[j]]==0):\n",
    "                x[i,a1[j]]=1\n",
    "            else:\n",
    "                x[i,a1[j]]=0\n",
    "    return x "
   ]
  },
  {
   "cell_type": "code",
   "execution_count": 5,
   "metadata": {
    "id": "B0Qsf-f58rG5"
   },
   "outputs": [],
   "source": [
    "def makedata(ga,data,th):\n",
    "    dataf=[]\n",
    "    for row in ga:\n",
    "        d=[]\n",
    "        a,dec=selectedfeat(row,th)\n",
    "        featureassembler=VectorAssembler(inputCols=a,outputCol=\"features\")\n",
    "        dataset=featureassembler.transform(data)\n",
    "        d.append(dataset)\n",
    "        d.append(dec)\n",
    "        dataf.append(d)\n",
    "    return dataf"
   ]
  },
  {
   "cell_type": "code",
   "execution_count": 6,
   "metadata": {
    "id": "0CxLuZfG8rG5"
   },
   "outputs": [],
   "source": [
    "def fitnessvaluega1(dataset1):\n",
    "    dataset=dataset1[0]\n",
    "    k=dataset1[1]\n",
    "    dataset=dataset.select('features')\n",
    "    dataset.rdd.collect()\n",
    "    kmeans = KMeans().setK(int(k)).setSeed(1)\n",
    "    model = kmeans.fit(dataset)\n",
    "    predictions = model.transform(dataset)\n",
    "    evaluator = ClusteringEvaluator()\n",
    "    silhouette = evaluator.evaluate(predictions)\n",
    "    return silhouette"
   ]
  },
  {
   "cell_type": "code",
   "execution_count": 7,
   "metadata": {
    "id": "gahAIRww8rG6"
   },
   "outputs": [],
   "source": [
    "import multiprocess \n",
    "import time "
   ]
  },
  {
   "cell_type": "code",
   "execution_count": 8,
   "metadata": {
    "id": "Z3-h_XIw8rG6",
    "outputId": "2c1b45f1-572d-4e3b-acf2-e242e47fef65"
   },
   "outputs": [],
   "source": [
    "# noc=input(\"Enter number of chromosome\")\n",
    "# noc=int(noc)\n",
    "# th=input(\"Enter max threshold\")\n",
    "# th=int(th)\n",
    "# wn=input(\"Enter number of working node\")\n",
    "# wn=int(wn)\n",
    "# nog=input(\"Enter number of Generations\")\n",
    "# nog=int(nog)\n",
    "noc =25\n",
    "th = 0.5\n",
    "wn = 4\n",
    "nog = 20"
   ]
  },
  {
   "cell_type": "code",
   "execution_count": 9,
   "metadata": {
    "id": "AHe-nraY8rG8"
   },
   "outputs": [],
   "source": [
    "from multiprocess.pool import ThreadPool \n",
    "pool=ThreadPool(wn)\n"
   ]
  },
  {
   "cell_type": "code",
   "execution_count": null,
   "metadata": {
    "id": "qQFi5hnE8rG8",
    "outputId": "e675200d-0f9e-456f-e5ee-ec3f15084c4d"
   },
   "outputs": [
    {
     "name": "stdout",
     "output_type": "stream",
     "text": [
      "26509 100\n",
      "0\n"
     ]
    }
   ],
   "source": [
    "import time\n",
    "befit=-1\n",
    "pc=0.5\n",
    "pm=0.1\n",
    "dataset_path='Dataset/'\n",
    "bsv=[]\n",
    "timef=[]\n",
    "befs=[]\n",
    "for j in range(0,14):\n",
    "    if j!=4:\n",
    "        fname= dataset_path+str(j+1) +'.csv'\n",
    "        dataset=spark.read.csv(fname,inferSchema=True,header=False)\n",
    "        columns = len(dataset.columns)\n",
    "        rows=dataset.count()\n",
    "        print(rows,columns)\n",
    "        ga=np.random.randint(2, size=(noc, columns+4))\n",
    "        dataf=makedata(ga,dataset,th)\n",
    "        iterbest=np.zeros((nog))\n",
    "        tf=np.zeros((nog))\n",
    "\n",
    "        for gno in range(0,nog):\n",
    "            print(gno)\n",
    "            start = time.time()\n",
    "            s=np.zeros((noc))\n",
    "            s=pool.map(fitnessvaluega1,dataf)\n",
    "            maxs=np.max(s)\n",
    "            maxi=np.argmax(s)  \n",
    "            if maxs>befit:\n",
    "                befit=maxs\n",
    "                gaf=ga[maxi,:]\n",
    "            iterbest[gno]=befit    \n",
    "            ga=crossover(ga,pc)\n",
    "            ga=mutation(ga,pm)\n",
    "            nr=np.shape(ga)[0]   \n",
    "            ga=np.concatenate((ga,np.random.randint(2, size=(noc-nr, columns+4))), axis=0)\n",
    "            print(befit,gno)\n",
    "            dataf=makedata(ga,dataset,th)\n",
    "            end = time.time()\n",
    "            tf[gno]=end-start\n",
    "        bsv.append(iterbest)\n",
    "        timef.append(tf)\n",
    "        befs.append(befit)"
   ]
  },
  {
   "cell_type": "code",
   "execution_count": 299,
   "metadata": {},
   "outputs": [
    {
     "data": {
      "text/plain": [
       "[]"
      ]
     },
     "execution_count": 299,
     "metadata": {},
     "output_type": "execute_result"
    }
   ],
   "source": [
    "bsv"
   ]
  },
  {
   "cell_type": "code",
   "execution_count": null,
   "metadata": {
    "id": "3pampL688rG9",
    "outputId": "a98a9448-fcbb-4be7-d89d-d153bc7b7e57"
   },
   "outputs": [],
   "source": [
    "start = time.time()\n",
    "s=pool.map(fitnessvaluega1,dataf)\n",
    "end = time.time()\n",
    "print(end-start)"
   ]
  },
  {
   "cell_type": "code",
   "execution_count": null,
   "metadata": {
    "id": "9j7nqj5t8rG9",
    "outputId": "393037ef-ac10-43c6-b54d-012c779413c5"
   },
   "outputs": [],
   "source": [
    "pool=ThreadPool(1)\n",
    "start = time.time()\n",
    "s=pool.map(fitnessvaluega1,dataf)\n",
    "end = time.time()\n",
    "print(end-start)"
   ]
  },
  {
   "cell_type": "code",
   "execution_count": null,
   "metadata": {
    "id": "-LUdglyT8rG-",
    "outputId": "25fd1b38-2a36-4dfa-b3b6-43ada4c93d24"
   },
   "outputs": [],
   "source": [
    "pool=ThreadPool(2)\n",
    "start = time.time()\n",
    "s=pool.map(fitnessvaluega1,dataf)\n",
    "end = time.time()\n",
    "print(end-start)"
   ]
  },
  {
   "cell_type": "code",
   "execution_count": null,
   "metadata": {
    "id": "BmNBGxRr8rG-",
    "outputId": "3e24d441-1ac3-467e-ab24-458b799a3e25"
   },
   "outputs": [],
   "source": [
    "pool=ThreadPool(3)\n",
    "start = time.time()\n",
    "s=pool.map(fitnessvaluega1,dataf)\n",
    "end = time.time()\n",
    "print(end-start)"
   ]
  },
  {
   "cell_type": "code",
   "execution_count": null,
   "metadata": {
    "id": "5B_AtUtS8rG_",
    "outputId": "30597414-d68e-4227-da62-a0bdb3ada418"
   },
   "outputs": [],
   "source": [
    "gnof=np.zeros(nog)\n",
    "for i in range(0,nog):\n",
    "    gnof[i]=i+1\n",
    "import matplotlib.pyplot as plt \n",
    "plt.plot(gnof,bsv[0])\n",
    "plt.xlabel('Generation Number') \n",
    "plt.ylabel('Fitness Value')  \n",
    "plt.title('1') \n",
    "plt.show() \n",
    "plt.savefig\n",
    "\n",
    "# plt.plot(gnof,bsv[1])\n",
    "# plt.xlabel('Generation Number') \n",
    "# plt.ylabel('Fitness Value')  \n",
    "# plt.title('Skg') \n",
    "# plt.show() \n"
   ]
  },
  {
   "cell_type": "code",
   "execution_count": null,
   "metadata": {
    "id": "zE1bcUgm8rHA",
    "outputId": "92c10609-e2bc-4365-a9bc-6b8da3a68fff"
   },
   "outputs": [],
   "source": [
    "# plt.plot(gnof,timef[0])\n",
    "# plt.xlabel('Generation Number') \n",
    "# plt.ylabel('Time Value')  \n",
    "# plt.title('CBOW') \n",
    "# plt.show() \n",
    "# plt.savefig('timecbow.png')\n",
    "\n",
    "# plt.plot(gnof,timef[1])\n",
    "# plt.xlabel('Generation Number') \n",
    "# plt.ylabel('Time Value')  \n",
    "# plt.title('Skg') \n",
    "# plt.show() \n",
    "# plt.savefig('timeskg.png')"
   ]
  },
  {
   "cell_type": "code",
   "execution_count": null,
   "metadata": {
    "id": "KDeVYcrN8rHB",
    "outputId": "427dacef-e3e7-4b81-fcc7-69e49faaa427"
   },
   "outputs": [],
   "source": [
    "plt.plot(gnof,timef[0])\n",
    "plt.xlabel('Generation Number') \n",
    "plt.ylabel('Time Value')  \n",
    "plt.title('CBOW') \n",
    "plt.show() \n",
    "\n",
    "\n"
   ]
  },
  {
   "cell_type": "code",
   "execution_count": null,
   "metadata": {
    "id": "dyqsqCp48rHB",
    "outputId": "1bb191ce-66e4-492a-9955-d15ef98e9256"
   },
   "outputs": [],
   "source": [
    "plt.plot(gnof,timef[1])\n",
    "plt.xlabel('Generation Number') \n",
    "plt.ylabel('Time Value')  \n",
    "plt.title('Skg') \n",
    "plt.show() \n",
    "plt.savefig('timeskg_20.png')"
   ]
  },
  {
   "cell_type": "code",
   "execution_count": null,
   "metadata": {},
   "outputs": [],
   "source": [
    "# plt.savefig('cbow_20.png')\n",
    "# plt.savefig('skg_20.png')\n",
    "# plt.savefig('timecbow_20.png')"
   ]
  },
  {
   "cell_type": "code",
   "execution_count": null,
   "metadata": {
    "id": "UnGybM0H8rHC",
    "outputId": "76e09add-79d9-45a7-bd00-12f8907b2c52"
   },
   "outputs": [],
   "source": [
    "# plt.plot(gnof,timef[1])\n",
    "# plt.xlabel('Generation Number') \n",
    "# plt.ylabel('Time Value')  \n",
    "# plt.title('Skg') \n",
    "# plt.show() \n",
    "# plt.savefig('timeskg.png')"
   ]
  },
  {
   "cell_type": "code",
   "execution_count": null,
   "metadata": {
    "id": "aXW9UXzh8rHC",
    "outputId": "be470a4e-6e98-42f7-e599-4d83f0489cf9"
   },
   "outputs": [],
   "source": [
    "# plt.plot(gnof,timef[1])\n",
    "# plt.xlabel('Generation Number') \n",
    "# plt.ylabel('Time Value')  \n",
    "# plt.title('Skg') \n",
    "# plt.show() \n",
    "# plt.savefig('timeskg.png')"
   ]
  },
  {
   "cell_type": "code",
   "execution_count": null,
   "metadata": {
    "id": "eAY6wdtF8rHD",
    "outputId": "7352ac35-c05f-460d-9476-b46c6165e828"
   },
   "outputs": [],
   "source": [
    "# plt.plot(gnof,timef[1])\n",
    "# plt.xlabel('Generation Number') \n",
    "# plt.ylabel('Time Value')  \n",
    "# plt.title('Skg') \n",
    "# plt.show() \n",
    "# plt.savefig('D:/data/CORD-19-research-challenge/data/timeskg.png')"
   ]
  },
  {
   "cell_type": "code",
   "execution_count": null,
   "metadata": {
    "id": "tTBvp3Cg8rHD"
   },
   "outputs": [],
   "source": []
  },
  {
   "cell_type": "code",
   "execution_count": null,
   "metadata": {},
   "outputs": [],
   "source": []
  }
 ],
 "metadata": {
  "colab": {
   "name": "parallel_GA.ipynb",
   "provenance": []
  },
  "kernelspec": {
   "display_name": "Python 3",
   "language": "python",
   "name": "python3"
  },
  "language_info": {
   "codemirror_mode": {
    "name": "ipython",
    "version": 3
   },
   "file_extension": ".py",
   "mimetype": "text/x-python",
   "name": "python",
   "nbconvert_exporter": "python",
   "pygments_lexer": "ipython3",
   "version": "3.8.8"
  }
 },
 "nbformat": 4,
 "nbformat_minor": 1
}
