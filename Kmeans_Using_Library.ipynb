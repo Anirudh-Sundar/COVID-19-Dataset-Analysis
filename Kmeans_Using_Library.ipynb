
{
 "cells": [
  {
   "cell_type": "code",
   "execution_count": 1,
   "metadata": {},
   "outputs": [],
   "source": [
    "import numpy as np"
   ]
  },
  {
   "cell_type": "code",
   "execution_count": 7,
   "metadata": {},
   "outputs": [
    {
     "name": "stdout",
     "output_type": "stream",
     "text": [
      "1\n",
      "2\n",
      "3\n",
      "4\n",
      "5\n",
      "6\n",
      "7\n",
      "8\n",
      "9\n",
      "10\n",
      "11\n",
      "12\n",
      "13\n",
      "14\n"
     ]
    }
   ],
   "source": [
    "from sklearn.cluster import KMeans\n",
    "from sklearn import metrics\n",
    "shilv_library=np.zeros((14,9))\n",
    "dbIndex_library=np.zeros((14,9))\n",
    "for i in range(1,15):\n",
    "    print(i)\n",
    "    fname='C:/Users/aniru/Web Development/DM project/'+str(i)+'.csv'\n",
    "    data=np.genfromtxt(fname,delimiter=',');\n",
    "    for j in range(2,11):\n",
    "        kmeans = KMeans(n_clusters=j, random_state=0).fit(data[:,0:-1])\n",
    "        dbIndex_library[i-1,j-2]=metrics.davies_bouldin_score(data[:,0:-1], kmeans.labels_)"
   ]
  },
  {
   "cell_type": "code",
   "execution_count": 9,
   "metadata": {},
   "outputs": [],
   "source": [
    "fname='C:/Users/aniru/Web Development/DM project/DBindex_library.csv'\n",
    "np.savetxt(fname,dbIndex_library,delimiter=',',fmt=\"%f\")"
   ]
  },
  {
   "cell_type": "code",
   "execution_count": null,
   "metadata": {},
   "outputs": [],
   "source": []
  }
 ],
 "metadata": {
  "kernelspec": {
   "display_name": "Python 3",
   "language": "python",
   "name": "python3"
  },
  "language_info": {
   "codemirror_mode": {
    "name": "ipython",
    "version": 3
   },
   "file_extension": ".py",
   "mimetype": "text/x-python",
   "name": "python",
   "nbconvert_exporter": "python",
   "pygments_lexer": "ipython3",
   "version": "3.8.8"
  }
 },
 "nbformat": 4,
 "nbformat_minor": 2
}

